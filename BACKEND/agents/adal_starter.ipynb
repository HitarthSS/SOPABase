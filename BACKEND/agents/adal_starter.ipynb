{
 "cells": [
  {
   "cell_type": "code",
   "execution_count": null,
   "metadata": {},
   "outputs": [
    {
     "ename": "",
     "evalue": "",
     "output_type": "error",
     "traceback": [
      "\u001b[1;31mRunning cells with 'supabase_hack_nov24 (Python 3.12.7)' requires the ipykernel package.\n",
      "\u001b[1;31mRun the following command to install 'ipykernel' into the Python environment. \n",
      "\u001b[1;31mCommand: 'conda install -n supabase_hack_nov24 ipykernel --update-deps --force-reinstall'"
     ]
    }
   ],
   "source": [
    "import requests\n",
    "import os\n",
    "import json\n",
    "from adalflow.core import Component, Generator\n",
    "from adalflow.components.model_client import AnthropicAPIClient\n",
    "from adalflow.core import DataClass, required_field\n",
    "from adalflow.components.output_parsers.outputs import JsonOutputParser\n",
    "from dataclasses import dataclass, field\n",
    "import adalflow as adal\n",
    "from dotenv import load_dotenv\n",
    "load_dotenv()"
   ]
  },
  {
   "cell_type": "code",
   "execution_count": null,
   "metadata": {},
   "outputs": [],
   "source": [
    "class GenerationComponent:\n",
    "    def __init__(self, model_client, model_kwargs, json_parser):\n",
    "        self.generator = adal.Generator(\n",
    "            model_client=model_client,\n",
    "            model_kwargs=model_kwargs,\n",
    "            prompt_kwargs={},\n",
    "            use_cache=True,\n",
    "            output_processors=json_parser,\n",
    "        )\n",
    "\n",
    "    def call(self, task_desc_str, input_str, context_str=None, id=None):\n",
    "        if context_str is None:\n",
    "            output = self.generator.call(prompt_kwargs={\"task_desc_str\": task_desc_str, \"input_str\": input_str}, id=id)\n",
    "        else:\n",
    "            output = self.generator.call(prompt_kwargs={\"task_desc_str\": task_desc_str, \"input_str\": input_str, \"context_str\": context_str}, id=id)\n",
    "        return output"
   ]
  },
  {
   "cell_type": "code",
   "execution_count": 3,
   "metadata": {},
   "outputs": [],
   "source": [
    "@dataclass\n",
    "class PatentOutline(DataClass):\n",
    "    abstract: str = field(\n",
    "        metadata={\"desc\": \"Comprehensive summary of the product in around 250 words\"}, default_factory=required_field()\n",
    "    ) # required field\n",
    "    detailed_description: list = field(\n",
    "        metadata={\"desc\": \"An outline formatted as a list of all of the functionality and nuances of the product\"}, default_factory=required_field()\n",
    "    ) # required field\n",
    "    title: str = field(\n",
    "        metadata={\"desc\": \"A title for the proposed invention\"}, default_factory=required_field()\n",
    "    ) # required field\n",
    "    search_query: list = field(\n",
    "        metadata={\"desc\": \"A list of 3 search queries for retrieving relevant information that could be used to flesh out the patent.\"}, default_factory=required_field()\n",
    "    )"
   ]
  },
  {
   "cell_type": "code",
   "execution_count": 4,
   "metadata": {},
   "outputs": [],
   "source": [
    "complete_parser = JsonOutputParser(data_class=PatentOutline)\n",
    "complete_format_instructions = complete_parser.format_instructions()"
   ]
  },
  {
   "cell_type": "code",
   "execution_count": 5,
   "metadata": {},
   "outputs": [],
   "source": [
    "model_client=AnthropicAPIClient(api_key=os.getenv(\"ANTHROPIC_API_KEY\"))\n",
    "model_kwargs={\"model\": \"claude-3-5-sonnet-20240620\", \"max_tokens\": 2048}\n",
    "generator = GenerationComponent(model_client, model_kwargs, complete_parser)\n",
    "result = generator.call(\"You are a helpful assistant providing comprehensive sections of patents based on inventions described in transcripts.\" + complete_format_instructions, \"Here is some information about a blood collection device that is used to get blood sampling data\")"
   ]
  },
  {
   "cell_type": "code",
   "execution_count": 7,
   "metadata": {},
   "outputs": [
    {
     "data": {
      "text/plain": [
       "{'abstract': 'This invention relates to an advanced blood collection device designed to revolutionize the process of obtaining blood sampling data. The device integrates cutting-edge technology with user-friendly features to enhance accuracy, efficiency, and patient comfort during blood collection procedures. It incorporates a minimally invasive needle system, real-time data processing capabilities, and seamless integration with electronic health records. The device is equipped with sensors to monitor blood flow and volume, ensuring precise sample collection. Additionally, it features a smart interface that guides healthcare professionals through the collection process, reducing the risk of errors. This innovative blood collection device aims to streamline laboratory workflows, improve diagnostic accuracy, and ultimately enhance patient care in various medical settings.',\n",
       " 'detailed_description': ['Minimally invasive needle system for reduced patient discomfort',\n",
       "  'Real-time data processing and analysis capabilities',\n",
       "  'Integration with electronic health records for seamless data transfer',\n",
       "  'Sensors to monitor blood flow and volume during collection',\n",
       "  'Smart interface with step-by-step guidance for healthcare professionals',\n",
       "  'Automatic sample labeling and tracking system',\n",
       "  'Adjustable vacuum control for optimal blood flow',\n",
       "  'Built-in safety mechanisms to prevent needle stick injuries',\n",
       "  'Multi-sample capability with automatic tube changing',\n",
       "  'Portable design with rechargeable battery for mobile use',\n",
       "  'Temperature-controlled storage compartment for collected samples',\n",
       "  'Compatibility with various blood test types and tube sizes',\n",
       "  'Wireless connectivity for remote monitoring and data transmission',\n",
       "  'Self-cleaning and sterilization features for multiple uses',\n",
       "  'Customizable settings for different patient demographics and medical conditions'],\n",
       " 'title': 'Advanced Integrated Blood Collection and Analysis System',\n",
       " 'search_query': ['Smart blood collection devices AND real-time data processing',\n",
       "  'Minimally invasive blood sampling technologies',\n",
       "  'Electronic health record integration AND blood sample analysis']}"
      ]
     },
     "execution_count": 7,
     "metadata": {},
     "output_type": "execute_result"
    }
   ],
   "source": [
    "result.data"
   ]
  },
  {
   "cell_type": "code",
   "execution_count": null,
   "metadata": {},
   "outputs": [],
   "source": []
  }
 ],
 "metadata": {
  "kernelspec": {
   "display_name": "supabase_hack_nov24",
   "language": "python",
   "name": "python3"
  },
  "language_info": {
   "codemirror_mode": {
    "name": "ipython",
    "version": 3
   },
   "file_extension": ".py",
   "mimetype": "text/x-python",
   "name": "python",
   "nbconvert_exporter": "python",
   "pygments_lexer": "ipython3",
   "version": "3.12.7"
  }
 },
 "nbformat": 4,
 "nbformat_minor": 2
}
