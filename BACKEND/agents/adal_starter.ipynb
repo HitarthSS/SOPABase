{
 "cells": [
  {
   "cell_type": "code",
   "execution_count": null,
   "metadata": {
    "vscode": {
     "languageId": "plaintext"
    }
   },
   "outputs": [],
   "source": [
    "import requests\n",
    "import os\n",
    "import json\n",
    "from adalflow.core import Component, Generator\n",
    "from adalflow.components.model_client import AnthropicAPIClient\n",
    "from adalflow.core import DataClass, required_field\n",
    "from adalflow.components.output_parsers.outputs import JsonOutputParser\n",
    "from dataclasses import dataclass, field\n",
    "import adalflow as adal\n",
    "from dotenv import load_dotenv\n",
    "load_dotenv()"
   ]
  }
 ],
 "metadata": {
  "language_info": {
   "name": "python"
  }
 },
 "nbformat": 4,
 "nbformat_minor": 2
}
